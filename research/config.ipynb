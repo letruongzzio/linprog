{
 "cells": [
  {
   "cell_type": "code",
   "execution_count": 1,
   "id": "bbf84f28",
   "metadata": {},
   "outputs": [],
   "source": [
    "import sys\n",
    "import os\n",
    "sys.path.append(os.path.abspath(\"../\"))"
   ]
  },
  {
   "cell_type": "code",
   "execution_count": 2,
   "id": "09f65bb7",
   "metadata": {},
   "outputs": [],
   "source": [
    "from linprog_lib.method.config.configuration import LinearProgrammingConfig"
   ]
  },
  {
   "cell_type": "code",
   "execution_count": 3,
   "id": "bd005cac",
   "metadata": {},
   "outputs": [
    {
     "data": {
      "text/plain": [
       "3"
      ]
     },
     "execution_count": 3,
     "metadata": {},
     "output_type": "execute_result"
    }
   ],
   "source": [
    "len([1, 2, 3])"
   ]
  },
  {
   "cell_type": "code",
   "execution_count": 4,
   "id": "e26d744d",
   "metadata": {},
   "outputs": [],
   "source": [
    "config = LinearProgrammingConfig(\n",
    "    method=\"simplex\",\n",
    "    objective_type=\"max\",\n",
    "    c=[1, 2, 3],\n",
    "    A=[\n",
    "        [2, 3, 1],\n",
    "        [1, 2, 3],\n",
    "        [3, 1, 2]\n",
    "    ],\n",
    "    b=[10, 15, 20],\n",
    "    constraint_signs=[\"<=\", \">=\", \"=\"],\n",
    "    var_bounds=[\">=\", None, \"<=\"],\n",
    "    problem_form=\"general\",\n",
    "    print_solution=True,\n",
    "    print_plot=False,\n",
    "    print_tables=True,\n",
    "    verbose=True\n",
    ")"
   ]
  },
  {
   "cell_type": "code",
   "execution_count": 5,
   "id": "00c0b19d",
   "metadata": {},
   "outputs": [
    {
     "name": "stdout",
     "output_type": "stream",
     "text": [
      "\\[ \n",
      "\\begin{align*}\n",
      "\\text{max} \\quad & x_{1} + 2x_{2} + 3x_{3} \\\\\n",
      "\\text{subject to} \\quad & 2x_{1} + 3x_{2} + x_{3} \\leq 10 \\\\\n",
      "& x_{1} + 2x_{2} + 3x_{3} \\geq 15 \\\\\n",
      "& 3x_{1} + x_{2} + 2x_{3} = 20 \\\\\n",
      "\\text{for } \\quad & x_{1} \\geq 0, x_{2} \\in \\mathbb{R}, x_{3} \\leq 0\n",
      "\\end{align*}\n",
      "\\]\n"
     ]
    }
   ],
   "source": [
    "print(config.summary())"
   ]
  }
 ],
 "metadata": {
  "kernelspec": {
   "display_name": "Python 3",
   "language": "python",
   "name": "python3"
  },
  "language_info": {
   "codemirror_mode": {
    "name": "ipython",
    "version": 3
   },
   "file_extension": ".py",
   "mimetype": "text/x-python",
   "name": "python",
   "nbconvert_exporter": "python",
   "pygments_lexer": "ipython3",
   "version": "3.10.12"
  }
 },
 "nbformat": 4,
 "nbformat_minor": 5
}
